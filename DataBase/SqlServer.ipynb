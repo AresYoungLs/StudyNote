{
 "cells": [
  {
   "attachments": {},
   "cell_type": "markdown",
   "metadata": {},
   "source": [
    "# SqlServer 数据库常用命令\n",
    "\n",
    "## 删除原表数据,并重置自增列\n",
    "\n",
    "- truncate table **tableName**\n",
    "\n",
    "---\n",
    "\n",
    "## 重置表的自增字段,保留数据 （重置自增序列从某个值开始）\n",
    "\n",
    "- DBCC CHECKIDENT (**tableName**,reseed,0)\n",
    "\n",
    "---\n",
    "\n",
    "## 设置允许显式插入自增列\n",
    "\n",
    "- SET IDENTITY_INSERT **tableName** ON\n",
    "\n",
    "---\n",
    "\n",
    "## 当然插入完毕记得要设置不允许显式插入自增列\n",
    "\n",
    "- SET IDENTITY_INSERT **tableName** Off\n",
    "\n",
    "---\n",
    "\n",
    "## 从一个表中查询数据插入另一个表中\n",
    "\n",
    "<font color=\"#FF0000\">只适用于创建新表的插入（Mysql不支持）</font> <br>\n",
    "<font color=\"#FF0000\">此语句只能创建现有的准备插入的数据列的表结构</font> <br>\n",
    "<font color=\"#FF0000\">并且在查询的时候，column_name(s)外面不能够加括号</font> <br>\n",
    "\n",
    "```sql\n",
    "SELECT */column_name(s) INTO tableName FROM sourcetableName  \n",
    "```\n",
    "\n",
    "<font color=\"#FF0000\">查询添加到已有表</font> <br>\n",
    "\n",
    "```sql\n",
    "INSERT INTO tableName [空]/(字段1，2，3)  SELECT  */字段1，2，3 FROM  sourcetableName \n",
    "```\n",
    "\n",
    "<font color=\"#FF0000\">这里查询的时候需要把字段的数据顺序对应上去</font>\n"
   ]
  }
 ],
 "metadata": {
  "kernelspec": {
   "display_name": "Python 3",
   "language": "python",
   "name": "python3"
  },
  "language_info": {
   "name": "python",
   "version": "3.11.1"
  },
  "orig_nbformat": 4
 },
 "nbformat": 4,
 "nbformat_minor": 2
}
