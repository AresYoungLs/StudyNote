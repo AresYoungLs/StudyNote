{
 "cells": [
  {
   "cell_type": "markdown",
   "metadata": {},
   "source": [
    "# SQL server\n",
    "\n",
    "## ISNULL NULLIF 和 IFNULL 函数的区别\n",
    "\n",
    "### ISNULL\n",
    "\n",
    "ISNULL(expr) 如果expr 为NULL，那么ISNULL() 的返回值为 1，否则返回值为0  -- mysql<br>\n",
    "ISNULL(expr1，expr2)  如果数据为null 则返回expr2，否则返回本身 --SQLserver\n",
    "\n",
    "### NULLIF(expr1,expr2)\n",
    "\n",
    "若expr1等于expr2，则返回null，否则返回expr1\n",
    "\n",
    "### IFNULL(expr1,expr2)\n",
    "\n",
    "若expr1不为null，则ifnull()的返回值为expr1；若expr1为null，则返回expr2的值<br>\n",
    "\n",
    "```diff\n",
    "- sql server 无此函数\n",
    "```\n"
   ]
  }
 ],
 "metadata": {
  "kernelspec": {
   "display_name": "Python 3",
   "language": "python",
   "name": "python3"
  },
  "language_info": {
   "name": "python",
   "version": "3.11.1"
  },
  "orig_nbformat": 4
 },
 "nbformat": 4,
 "nbformat_minor": 2
}
