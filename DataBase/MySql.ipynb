{
 "cells": [
  {
   "attachments": {},
   "cell_type": "markdown",
   "metadata": {},
   "source": [
    "# MySQL\n",
    "\n",
    "## MySql 数据库常用命令\n",
    "\n",
    "### 重置 Mysql 自增列的开始序号\n",
    "\n",
    "- ALTER TABLE TableName AUTO_INCREMENT = 5\n",
    "  > 代表重新从 5 开始（包括 5）>\n",
    "\n",
    "### 清空表数据并且重置自增序列\n",
    "\n",
    "truncate table [表名]\n",
    "\n",
    "### 找回删除数据\n",
    "```sql\n",
    "--开启行移动功能 \n",
    " alter table 表名 enable row movement\n",
    " --恢复表数据\n",
    " flashback table 表名 to timestamp to_timestamp(删除时间点','yyyy-mm-dd hh24:mi:ss')\n",
    " --关闭行移动功能 ( 千万别忘记 )\n",
    " alter table 表名 disable row movement\n",
    "```"
   ]
  }
 ],
 "metadata": {
  "kernelspec": {
   "display_name": "Python 3",
   "language": "python",
   "name": "python3"
  },
  "language_info": {
   "name": "python",
   "version": "3.11.1"
  },
  "orig_nbformat": 4
 },
 "nbformat": 4,
 "nbformat_minor": 2
}
