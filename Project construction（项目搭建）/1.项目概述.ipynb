{
 "cells": [
  {
   "attachments": {},
   "cell_type": "markdown",
   "metadata": {},
   "source": [
    "# 项目架构选型\n",
    "\n",
    "- Spring Cloud 微服务\n",
    "- Elastic Search 搜索引擎\n",
    "- jdk: Java11 11.0.10\n",
    "- 搜索引擎：ES 7.8 版本\n",
    "  静态模板：FreeMarker\n",
    "  日志框架：ELK  \n",
    "  消息中间件：RabbitMQ\n",
    "  文件服务器：FastDFS OSS\n",
    "\n",
    "  权限框架：spring security\n",
    "  缓存数据库：redis - lettuce  \n",
    "  代码管理工具：GitLab\n",
    "  整体框架：springCloud 全家桶\n",
    "  数据库框架：MyBatis-Plus\n",
    "  数据库：mysql\n",
    "\n",
    "# 项目名称\n",
    "\n",
    "phospherus（启明星）\n",
    "com.hande.phospherus\n",
    "\n",
    "UP (1) - 10.18.124.180:39001\n",
    "UP (1) - hp:39001\n"
   ]
  }
 ],
 "metadata": {
  "kernelspec": {
   "display_name": "Python 3",
   "language": "python",
   "name": "python3"
  },
  "language_info": {
   "name": "python",
   "version": "3.11.1"
  },
  "orig_nbformat": 4
 },
 "nbformat": 4,
 "nbformat_minor": 2
}
