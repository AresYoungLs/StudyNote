{
 "cells": [
  {
   "attachments": {},
   "cell_type": "markdown",
   "metadata": {},
   "source": [
    "# 设置 Github 加速\n",
    "\n",
    "选择网络加速菜单，勾选 Github，全部启用。\n",
    "\n",
    "特别注意，在顶部模式中选择 “系统代理模式” 然后戳一键加速。\n",
    "\n",
    "![Steam++设置](./picture/Steam%2B%2B%E8%AE%BE%E7%BD%AE.png)\n",
    "\n",
    "# 为 Git 配置 HTTP 代理\n",
    "\n",
    "默认 Git 不走系统代理，需要手动设置。因此，我们需要前往系统网络代理选项卡查找 Watt Toolkit 工作的代理端口。\n",
    "\n",
    "打开 设置 -> 网络和 Internet -> 代理 -> 手动设置代理 -> 编辑，弹出代理选项卡。\n",
    "\n",
    "然后记下代理 IP 地址和代理端口，我的是 127.0.0.1 和 26501。\n",
    "\n",
    "![代理设置](./picture/%E4%BB%A3%E7%90%86%E8%AE%BE%E7%BD%AE.png)\n",
    "\n",
    "# 配置 Git 代理\n",
    "\n",
    "按下 Win+R 快捷键，打开 “运行”，将下述命令粘贴确定，使用文本编辑器打开（例如 VSCode 或者 记事本）\n",
    "\n",
    "```shell \n",
    "%USERPROFILE%\\.gitconfig\n",
    "```\n",
    "\n",
    "然后我们设置 HTTP 段的设置，如果已经有内容了，则进行修改。没有的话直接加就可以。\n",
    "\n",
    "```shell\n",
    "[http]\n",
    "    proxy = http://代理IP地址:代理端口\n",
    "    sslverify = false # 禁用 SSL 安全证书检查\n",
    "````"
   ]
  }
 ],
 "metadata": {
  "kernelspec": {
   "display_name": "Python 3",
   "language": "python",
   "name": "python3"
  },
  "language_info": {
   "codemirror_mode": {
    "name": "ipython",
    "version": 3
   },
   "file_extension": ".py",
   "mimetype": "text/x-python",
   "name": "python",
   "nbconvert_exporter": "python",
   "pygments_lexer": "ipython3",
   "version": "3.11.1"
  },
  "orig_nbformat": 4
 },
 "nbformat": 4,
 "nbformat_minor": 2
}
